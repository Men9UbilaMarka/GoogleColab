{
  "nbformat": 4,
  "nbformat_minor": 0,
  "metadata": {
    "colab": {
      "provenance": [],
      "authorship_tag": "ABX9TyPGhTacH0L5n70t/MR8kKIj",
      "include_colab_link": true
    },
    "kernelspec": {
      "name": "python3",
      "display_name": "Python 3"
    },
    "language_info": {
      "name": "python"
    }
  },
  "cells": [
    {
      "cell_type": "markdown",
      "metadata": {
        "id": "view-in-github",
        "colab_type": "text"
      },
      "source": [
        "<a href=\"https://colab.research.google.com/github/Men9UbilaMarka/GoogleColab/blob/main/PR10.ipynb\" target=\"_parent\"><img src=\"https://colab.research.google.com/assets/colab-badge.svg\" alt=\"Open In Colab\"/></a>"
      ]
    },
    {
      "cell_type": "markdown",
      "source": [
        "# Лабораторная работа № 10"
      ],
      "metadata": {
        "id": "jszcKdZOf3Ik"
      }
    },
    {
      "cell_type": "markdown",
      "source": [
        "**Hierarchical Clustering**"
      ],
      "metadata": {
        "id": "yMNK82wUgEPG"
      }
    },
    {
      "cell_type": "markdown",
      "source": [
        "Иерархическая кᴫастеризация (также графовые аᴫгоритмы кᴫастеризации и иерархический\n",
        "кᴫастерный анаᴫиз) — совокупность аᴫгоритмов упорядочивания данных, направᴫенных на\n",
        "создание иерархии (дерева) вᴫоженных кᴫастеров. Выдеᴫяют два кᴫасса методов иерархической\n",
        "кᴫастеризации꞉\n",
        "Агᴫомеративные методы (ангᴫ. agglomerative)꞉ новые кᴫастеры создаются путем объединения\n",
        "боᴫее меᴫких кᴫастеров и, таким образом, дерево создается от ᴫистьев к ствоᴫу;\n",
        "Дивизивные иᴫи дивизионные методы (ангᴫ. divisive)꞉ новые кᴫастеры создаются путем деᴫения\n",
        "боᴫее крупных кᴫастеров на боᴫее меᴫкие и, таким образом, дерево создается от ствоᴫа к\n",
        "ᴫистьям.\n",
        "Аᴫгоритмы иерархической кᴫастеризации предпоᴫагают, что анаᴫизируемое множество\n",
        "объектов характеризуется опредеᴫённой степенью связности."
      ],
      "metadata": {
        "id": "lhPeWBTYgTyK"
      }
    },
    {
      "cell_type": "markdown",
      "source": [
        "1. Подгружаю необходимые для практической работы библиотеки. В последних версиях scikit-learn модуля нет sklearn.datasets.samples_generator— он заменен на sklearn.datasets, поэтому заменяем."
      ],
      "metadata": {
        "id": "eO4Y52ScgYUi"
      }
    },
    {
      "cell_type": "code",
      "source": [
        "import numpy as np\n",
        "import pandas as pd\n",
        "from scipy import ndimage\n",
        "from scipy.cluster import hierarchy\n",
        "from scipy.spatial import distance_matrix\n",
        "from matplotlib import pyplot as plt\n",
        "from sklearn import manifold, datasets\n",
        "from sklearn.cluster import AgglomerativeClustering\n",
        "from sklearn.datasets import make_blobs\n",
        "%matplotlib inline"
      ],
      "metadata": {
        "id": "aVmQn436gu9n"
      },
      "execution_count": 11,
      "outputs": []
    },
    {
      "cell_type": "markdown",
      "source": [
        "2. Генерирую набор данных с помощью класса make_blobs, задав в параметре n_samles значение 80"
      ],
      "metadata": {
        "id": "SotGUZRhhVF1"
      }
    },
    {
      "cell_type": "code",
      "execution_count": 12,
      "metadata": {
        "id": "JzeLaBjwf2Nz"
      },
      "outputs": [],
      "source": [
        "X1, y1 = make_blobs(n_samples=80,\n",
        "                    centers=[[4,4], [-2, -1], [1, 1], [10,4]],\n",
        "                    cluster_std=0.9)"
      ]
    },
    {
      "cell_type": "markdown",
      "source": [
        "3. Строю случайный график с помощью нашего сгенерированного набора данных"
      ],
      "metadata": {
        "id": "XPy9pyhYh474"
      }
    },
    {
      "cell_type": "code",
      "source": [
        "plt.scatter(X1[:, 0], X1[:, 1], marker='o')"
      ],
      "metadata": {
        "colab": {
          "base_uri": "https://localhost:8080/",
          "height": 447
        },
        "id": "BMglr5SziQ8s",
        "outputId": "000e9ed2-cffd-458b-f5dd-024812fd43ec"
      },
      "execution_count": 13,
      "outputs": [
        {
          "output_type": "execute_result",
          "data": {
            "text/plain": [
              "<matplotlib.collections.PathCollection at 0x7bc560930ca0>"
            ]
          },
          "metadata": {},
          "execution_count": 13
        },
        {
          "output_type": "display_data",
          "data": {
            "text/plain": [
              "<Figure size 640x480 with 1 Axes>"
            ],
            "image/png": "[encoded data removed]"
          },
          "metadata": {}
        }
      ]
    },
    {
      "cell_type": "markdown",
      "source": [
        "4. Кластеризирую случайные точки данных, созданных мной, с помощью класса Agglomerative Clustering. Для него нужно ввести 2 параметра: n_clusters - кол-во кластеров и связь между ними (я использую связь \"complete\"). Создаю кластер..."
      ],
      "metadata": {
        "id": "qHt4T3BVilEP"
      }
    },
    {
      "cell_type": "code",
      "source": [
        "agglom = AgglomerativeClustering(n_clusters = 4, linkage = 'complete')"
      ],
      "metadata": {
        "id": "BFtTPj9zkBW9"
      },
      "execution_count": 16,
      "outputs": []
    },
    {
      "cell_type": "markdown",
      "source": [
        "5. ...а теперь сопоставляю кластер с нашим набором данных"
      ],
      "metadata": {
        "id": "O1rCV20Ukcpk"
      }
    },
    {
      "cell_type": "code",
      "source": [
        "agglom.fit(X1,y1)"
      ],
      "metadata": {
        "colab": {
          "base_uri": "https://localhost:8080/",
          "height": 75
        },
        "id": "tpHxozeokiat",
        "outputId": "180d8852-4ac9-4b4a-f258-b6b9bde7c33d"
      },
      "execution_count": 17,
      "outputs": [
        {
          "output_type": "execute_result",
          "data": {
            "text/plain": [
              "AgglomerativeClustering(linkage='complete', n_clusters=4)"
            ],
            "text/html": [
              "<style>#sk-container-id-2 {color: black;background-color: white;}#sk-container-id-2 pre{padding: 0;}#sk-container-id-2 div.sk-toggleable {background-color: white;}#sk-container-id-2 label.sk-toggleable__label {cursor: pointer;display: block;width: 100%;margin-bottom: 0;padding: 0.3em;box-sizing: border-box;text-align: center;}#sk-container-id-2 label.sk-toggleable__label-arrow:before {content: \"▸\";float: left;margin-right: 0.25em;color: #696969;}#sk-container-id-2 label.sk-toggleable__label-arrow:hover:before {color: black;}#sk-container-id-2 div.sk-estimator:hover label.sk-toggleable__label-arrow:before {color: black;}#sk-container-id-2 div.sk-toggleable__content {max-height: 0;max-width: 0;overflow: hidden;text-align: left;background-color: #f0f8ff;}#sk-container-id-2 div.sk-toggleable__content pre {margin: 0.2em;color: black;border-radius: 0.25em;background-color: #f0f8ff;}#sk-container-id-2 input.sk-toggleable__control:checked~div.sk-toggleable__content {max-height: 200px;max-width: 100%;overflow: auto;}#sk-container-id-2 input.sk-toggleable__control:checked~label.sk-toggleable__label-arrow:before {content: \"▾\";}#sk-container-id-2 div.sk-estimator input.sk-toggleable__control:checked~label.sk-toggleable__label {background-color: #d4ebff;}#sk-container-id-2 div.sk-label input.sk-toggleable__control:checked~label.sk-toggleable__label {background-color: #d4ebff;}#sk-container-id-2 input.sk-hidden--visually {border: 0;clip: rect(1px 1px 1px 1px);clip: rect(1px, 1px, 1px, 1px);height: 1px;margin: -1px;overflow: hidden;padding: 0;position: absolute;width: 1px;}#sk-container-id-2 div.sk-estimator {font-family: monospace;background-color: #f0f8ff;border: 1px dotted black;border-radius: 0.25em;box-sizing: border-box;margin-bottom: 0.5em;}#sk-container-id-2 div.sk-estimator:hover {background-color: #d4ebff;}#sk-container-id-2 div.sk-parallel-item::after {content: \"\";width: 100%;border-bottom: 1px solid gray;flex-grow: 1;}#sk-container-id-2 div.sk-label:hover label.sk-toggleable__label {background-color: #d4ebff;}#sk-container-id-2 div.sk-serial::before {content: \"\";position: absolute;border-left: 1px solid gray;box-sizing: border-box;top: 0;bottom: 0;left: 50%;z-index: 0;}#sk-container-id-2 div.sk-serial {display: flex;flex-direction: column;align-items: center;background-color: white;padding-right: 0.2em;padding-left: 0.2em;position: relative;}#sk-container-id-2 div.sk-item {position: relative;z-index: 1;}#sk-container-id-2 div.sk-parallel {display: flex;align-items: stretch;justify-content: center;background-color: white;position: relative;}#sk-container-id-2 div.sk-item::before, #sk-container-id-2 div.sk-parallel-item::before {content: \"\";position: absolute;border-left: 1px solid gray;box-sizing: border-box;top: 0;bottom: 0;left: 50%;z-index: -1;}#sk-container-id-2 div.sk-parallel-item {display: flex;flex-direction: column;z-index: 1;position: relative;background-color: white;}#sk-container-id-2 div.sk-parallel-item:first-child::after {align-self: flex-end;width: 50%;}#sk-container-id-2 div.sk-parallel-item:last-child::after {align-self: flex-start;width: 50%;}#sk-container-id-2 div.sk-parallel-item:only-child::after {width: 0;}#sk-container-id-2 div.sk-dashed-wrapped {border: 1px dashed gray;margin: 0 0.4em 0.5em 0.4em;box-sizing: border-box;padding-bottom: 0.4em;background-color: white;}#sk-container-id-2 div.sk-label label {font-family: monospace;font-weight: bold;display: inline-block;line-height: 1.2em;}#sk-container-id-2 div.sk-label-container {text-align: center;}#sk-container-id-2 div.sk-container {/* jupyter's `normalize.less` sets `[hidden] { display: none; }` but bootstrap.min.css set `[hidden] { display: none !important; }` so we also need the `!important` here to be able to override the default hidden behavior on the sphinx rendered scikit-learn.org. See: https://github.com/scikit-learn/scikit-learn/issues/21755 */display: inline-block !important;position: relative;}#sk-container-id-2 div.sk-text-repr-fallback {display: none;}</style><div id=\"sk-container-id-2\" class=\"sk-top-container\"><div class=\"sk-text-repr-fallback\"><pre>AgglomerativeClustering(linkage=&#x27;complete&#x27;, n_clusters=4)</pre><b>In a Jupyter environment, please rerun this cell to show the HTML representation or trust the notebook. <br />On GitHub, the HTML representation is unable to render, please try loading this page with nbviewer.org.</b></div><div class=\"sk-container\" hidden><div class=\"sk-item\"><div class=\"sk-estimator sk-toggleable\"><input class=\"sk-toggleable__control sk-hidden--visually\" id=\"sk-estimator-id-2\" type=\"checkbox\" checked><label for=\"sk-estimator-id-2\" class=\"sk-toggleable__label sk-toggleable__label-arrow\">AgglomerativeClustering</label><div class=\"sk-toggleable__content\"><pre>AgglomerativeClustering(linkage=&#x27;complete&#x27;, n_clusters=4)</pre></div></div></div></div></div>"
            ]
          },
          "metadata": {},
          "execution_count": 17
        }
      ]
    },
    {
      "cell_type": "markdown",
      "source": [
        "6. Вот графически отображенная кластеризация"
      ],
      "metadata": {
        "id": "t80GgLcgl6-R"
      }
    },
    {
      "cell_type": "code",
      "source": [
        "plt.figure(figsize=(6,4))\n",
        "\n",
        "x_min, x_max = np.min(X1, axis=0), np.max(X1, axis=0)\n",
        "\n",
        "X1 = (X1 - x_min) / (x_max - x_min)\n",
        "\n",
        "for i in range(X1.shape[0]):\n",
        "  plt.text(X1[i, 0], X1[i, 1], str(y1[i]),\n",
        "    color=plt.cm.nipy_spectral(agglom.labels_[i] / 10.),\n",
        "    fontdict={'weight': 'bold', 'size': 9})\n",
        "\n",
        "plt.xticks([])\n",
        "plt.yticks([])\n",
        "\n",
        "plt.scatter(X1[:, 0], X1[:, 1], marker='.')\n",
        "plt.show()"
      ],
      "metadata": {
        "colab": {
          "base_uri": "https://localhost:8080/",
          "height": 345
        },
        "id": "qOXqYC2-mYFh",
        "outputId": "828ad345-b43b-4d73-b628-99d3dfba41b4"
      },
      "execution_count": 19,
      "outputs": [
        {
          "output_type": "display_data",
          "data": {
            "text/plain": [
              "<Figure size 600x400 with 1 Axes>"
            ],
            "image/png": "[encoded data removed]"
          },
          "metadata": {}
        }
      ]
    },
    {
      "cell_type": "markdown",
      "source": [
        "7. С помощью функции distanse_matrix гружу данные расстояний между точками в переменную dist_matrix и вывожу ее"
      ],
      "metadata": {
        "id": "ojVM2dexmsBw"
      }
    },
    {
      "cell_type": "code",
      "source": [
        "dist_matrix = distance_matrix(X1,X1)\n",
        "print(dist_matrix)"
      ],
      "metadata": {
        "colab": {
          "base_uri": "https://localhost:8080/"
        },
        "id": "T7FybZ5Nnd6p",
        "outputId": "672110ea-7e1a-48b4-aea0-14faeacc2f7e"
      },
      "execution_count": 20,
      "outputs": [
        {
          "output_type": "stream",
          "name": "stdout",
          "text": [
            "[[0.         0.17664289 0.52721598 ... 0.27830366 0.34785928 0.56915464]\n",
            " [0.17664289 0.         0.48097965 ... 0.27369081 0.36136316 0.54595982]\n",
            " [0.52721598 0.48097965 0.         ... 0.75082624 0.2096409  1.02642965]\n",
            " ...\n",
            " [0.27830366 0.27369081 0.75082624 ... 0.         0.60480021 0.29191611]\n",
            " [0.34785928 0.36136316 0.2096409  ... 0.60480021 0.         0.89382968]\n",
            " [0.56915464 0.54595982 1.02642965 ... 0.29191611 0.89382968 0.        ]]\n"
          ]
        }
      ]
    },
    {
      "cell_type": "markdown",
      "source": [
        "8. Следующий код требовалось бы выполнить, если бы я использовал класс linkage, но так как я использовал классcomplete, то код можно не выполнять"
      ],
      "metadata": {
        "id": "M0tzzQUiomlu"
      }
    },
    {
      "cell_type": "code",
      "source": [
        "Z = hierarchy.linkage(dist_matrix, 'complete')"
      ],
      "metadata": {
        "id": "4wfSZ7g0oUll"
      },
      "execution_count": null,
      "outputs": []
    },
    {
      "cell_type": "markdown",
      "source": [
        "9. Вывожу иеархическую кластеризацию в виде дендограммы. На диаграмме можно визуально рассмотреть весь процесс кластеризации и ее каждый шаг."
      ],
      "metadata": {
        "id": "hY2eHMfuo8MD"
      }
    },
    {
      "cell_type": "code",
      "source": [
        "dendro = hierarchy.dendrogram(Z)"
      ],
      "metadata": {
        "colab": {
          "base_uri": "https://localhost:8080/",
          "height": 427
        },
        "id": "NDlMghPmnowa",
        "outputId": "29655afb-0fab-4eec-ed3e-eb7446524d48"
      },
      "execution_count": 23,
      "outputs": [
        {
          "output_type": "display_data",
          "data": {
            "text/plain": [
              "<Figure size 640x480 with 1 Axes>"
            ],
            "image/png": "[encoded data removed]"
          },
          "metadata": {}
        }
      ]
    },
    {
      "cell_type": "markdown",
      "source": [
        "# Clustering on Vehicle dataset"
      ],
      "metadata": {
        "id": "t6Qet7N1pqLb"
      }
    },
    {
      "cell_type": "code",
      "source": [],
      "metadata": {
        "id": "MpzJkhvQprnT"
      },
      "execution_count": null,
      "outputs": []
    },
    {
      "cell_type": "markdown",
      "source": [],
      "metadata": {
        "id": "2iBcQEvjpsTj"
      }
    }
  ]
}