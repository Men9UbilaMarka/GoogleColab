{
  "cells": [
    {
      "cell_type": "markdown",
      "metadata": {
        "id": "view-in-github",
        "colab_type": "text"
      },
      "source": [
        "<a href=\"https://colab.research.google.com/github/Men9UbilaMarka/GoogleColab/blob/main/PR14_checkpoint.ipynb\" target=\"_parent\"><img src=\"https://colab.research.google.com/assets/colab-badge.svg\" alt=\"Open In Colab\"/></a>"
      ]
    },
    {
      "cell_type": "markdown",
      "id": "7a36e212-6ca5-4987-9d08-ae9b57acce93",
      "metadata": {
        "id": "7a36e212-6ca5-4987-9d08-ae9b57acce93"
      },
      "source": [
        "# Практические работы №14-15"
      ]
    },
    {
      "cell_type": "markdown",
      "id": "9a2c0624-b1cb-4bd6-94f5-d150a5132594",
      "metadata": {
        "id": "9a2c0624-b1cb-4bd6-94f5-d150a5132594"
      },
      "source": [
        "**Collaborative filtering**"
      ]
    },
    {
      "cell_type": "markdown",
      "id": "e5195559-2b75-4111-abe4-d4e5ea00baf7",
      "metadata": {
        "id": "e5195559-2b75-4111-abe4-d4e5ea00baf7"
      },
      "source": [
        "Реĸомендательные системы представляют собой набор алгоритмов, используемых для реĸомендации чего-либо пользователям на основе информации, полученной от пользователя.\n",
        "Эти системы стали повсеместными, их можно часто увидеть в интернет-магазинах, базах данных фильмов и программах поисĸа работы. В этой лабораторной работе мы рассмотри\n",
        "системы реĸомендаций, основанные на совместной фильтрации, и реализуем простую версию таĸой системы с использованием Python и библиотеĸи Panda.\n"
      ]
    },
    {
      "cell_type": "markdown",
      "id": "e9d7617e-c41b-4868-b96d-8b439bb0a65f",
      "metadata": {
        "id": "e9d7617e-c41b-4868-b96d-8b439bb0a65f"
      },
      "source": [
        "1. Загружаем данные и скрипты, необходимые для практической работы"
      ]
    },
    {
      "cell_type": "code",
      "execution_count": null,
      "id": "146dc445-b28a-4ee8-bfc7-5d231cacd1ca",
      "metadata": {
        "id": "146dc445-b28a-4ee8-bfc7-5d231cacd1ca",
        "outputId": "01728e2f-5b22-4043-978f-2542117d8117"
      },
      "outputs": [
        {
          "name": "stdout",
          "output_type": "stream",
          "text": [
            "Файл moviedataset.zip загружен.\n"
          ]
        }
      ],
      "source": [
        "import requests\n",
        "\n",
        "url = 'https://s3-api.us-geo.objectstorage.softlayer.net/cf-courses-data/CognitiveClass/ML0101ENv3/labs/moviedataset.zip'\n",
        "r = requests.get(url)\n",
        "\n",
        "with open('moviedataset.zip', 'wb') as f:\n",
        "    f.write(r.content)\n",
        "\n",
        "print('Файл moviedataset.zip загружен.')"
      ]
    },
    {
      "cell_type": "markdown",
      "id": "8562de80-e4b4-4ea2-b0e1-4356310c0f99",
      "metadata": {
        "id": "8562de80-e4b4-4ea2-b0e1-4356310c0f99"
      },
      "source": [
        "2. Подключаем необходимые библиотеки"
      ]
    },
    {
      "cell_type": "code",
      "execution_count": null,
      "id": "512e00e5-6957-44e0-ace6-65678967d048",
      "metadata": {
        "id": "512e00e5-6957-44e0-ace6-65678967d048"
      },
      "outputs": [],
      "source": [
        "#Dataframe manipulation library\n",
        "import pandas as pd\n",
        "#Math functions, we'll only need the sqrt function so let's import only that\n",
        "from math import sqrt\n",
        "import numpy as np\n",
        "import matplotlib.pyplot as plt\n",
        "%matplotlib inline"
      ]
    },
    {
      "cell_type": "markdown",
      "id": "202cdf56-a966-4c9d-a7ce-04e9c126c290",
      "metadata": {
        "id": "202cdf56-a966-4c9d-a7ce-04e9c126c290"
      },
      "source": [
        "3. Загрузим датасет из локального репозитория"
      ]
    },
    {
      "cell_type": "code",
      "execution_count": null,
      "id": "0915e908-2c0f-47f5-bf4f-8000c2c48bfd",
      "metadata": {
        "id": "0915e908-2c0f-47f5-bf4f-8000c2c48bfd"
      },
      "outputs": [],
      "source": [
        "movies_df = pd.read_csv('C:/Users/Men9UbilaMarka/14-15/movies.csv')\n",
        "ratings_df = pd.read_csv('C:/Users/Men9UbilaMarka/14-15/ratings.csv')"
      ]
    },
    {
      "cell_type": "markdown",
      "id": "96e94b35-ccf7-4972-87a4-bb6cad306136",
      "metadata": {
        "id": "96e94b35-ccf7-4972-87a4-bb6cad306136"
      },
      "source": [
        "4. Просмотри таблицу с фильмами"
      ]
    },
    {
      "cell_type": "code",
      "execution_count": null,
      "id": "bed419dd-0580-435c-900f-8c1533fe4f60",
      "metadata": {
        "id": "bed419dd-0580-435c-900f-8c1533fe4f60",
        "outputId": "61b3d43d-b2e6-4e08-f70c-c8ffc015d7e8"
      },
      "outputs": [
        {
          "data": {
            "text/html": [
              "<div>\n",
              "<style scoped>\n",
              "    .dataframe tbody tr th:only-of-type {\n",
              "        vertical-align: middle;\n",
              "    }\n",
              "\n",
              "    .dataframe tbody tr th {\n",
              "        vertical-align: top;\n",
              "    }\n",
              "\n",
              "    .dataframe thead th {\n",
              "        text-align: right;\n",
              "    }\n",
              "</style>\n",
              "<table border=\"1\" class=\"dataframe\">\n",
              "  <thead>\n",
              "    <tr style=\"text-align: right;\">\n",
              "      <th></th>\n",
              "      <th>movieId</th>\n",
              "      <th>title</th>\n",
              "      <th>genres</th>\n",
              "    </tr>\n",
              "  </thead>\n",
              "  <tbody>\n",
              "    <tr>\n",
              "      <th>0</th>\n",
              "      <td>1</td>\n",
              "      <td>Toy Story (1995)</td>\n",
              "      <td>Adventure|Animation|Children|Comedy|Fantasy</td>\n",
              "    </tr>\n",
              "    <tr>\n",
              "      <th>1</th>\n",
              "      <td>2</td>\n",
              "      <td>Jumanji (1995)</td>\n",
              "      <td>Adventure|Children|Fantasy</td>\n",
              "    </tr>\n",
              "    <tr>\n",
              "      <th>2</th>\n",
              "      <td>3</td>\n",
              "      <td>Grumpier Old Men (1995)</td>\n",
              "      <td>Comedy|Romance</td>\n",
              "    </tr>\n",
              "    <tr>\n",
              "      <th>3</th>\n",
              "      <td>4</td>\n",
              "      <td>Waiting to Exhale (1995)</td>\n",
              "      <td>Comedy|Drama|Romance</td>\n",
              "    </tr>\n",
              "    <tr>\n",
              "      <th>4</th>\n",
              "      <td>5</td>\n",
              "      <td>Father of the Bride Part II (1995)</td>\n",
              "      <td>Comedy</td>\n",
              "    </tr>\n",
              "  </tbody>\n",
              "</table>\n",
              "</div>"
            ],
            "text/plain": [
              "   movieId                               title  \\\n",
              "0        1                    Toy Story (1995)   \n",
              "1        2                      Jumanji (1995)   \n",
              "2        3             Grumpier Old Men (1995)   \n",
              "3        4            Waiting to Exhale (1995)   \n",
              "4        5  Father of the Bride Part II (1995)   \n",
              "\n",
              "                                        genres  \n",
              "0  Adventure|Animation|Children|Comedy|Fantasy  \n",
              "1                   Adventure|Children|Fantasy  \n",
              "2                               Comedy|Romance  \n",
              "3                         Comedy|Drama|Romance  \n",
              "4                                       Comedy  "
            ]
          },
          "execution_count": 5,
          "metadata": {},
          "output_type": "execute_result"
        }
      ],
      "source": [
        "movies_df.head()"
      ]
    },
    {
      "cell_type": "markdown",
      "id": "c76eb0aa-02b2-4608-94fd-5d0845efc1d8",
      "metadata": {
        "id": "c76eb0aa-02b2-4608-94fd-5d0845efc1d8"
      },
      "source": [
        "5. Перенесем год из названия в отдельный столб"
      ]
    },
    {
      "cell_type": "code",
      "execution_count": null,
      "id": "83c16730-a314-4d5a-a0ab-6a9021622962",
      "metadata": {
        "id": "83c16730-a314-4d5a-a0ab-6a9021622962"
      },
      "outputs": [],
      "source": [
        "movies_df['year'] = movies_df.title.str.extract('(\\(\\d\\d\\d\\d\\))',expand=False)\n",
        "movies_df['year'] = movies_df.year.str.extract('(\\d\\d\\d\\d)',expand=False)\n",
        "movies_df['title'] = movies_df.title.str.replace('(\\(\\d\\d\\d\\d\\))', '')\n",
        "movies_df['title'] = movies_df['title'].apply(lambda x: x.strip())"
      ]
    },
    {
      "cell_type": "code",
      "execution_count": null,
      "id": "941069c9-d0ba-46c1-9b44-7b1f143c6354",
      "metadata": {
        "id": "941069c9-d0ba-46c1-9b44-7b1f143c6354",
        "outputId": "4b62db3c-fb2c-466a-b584-9e0c2f61953b"
      },
      "outputs": [
        {
          "data": {
            "text/html": [
              "<div>\n",
              "<style scoped>\n",
              "    .dataframe tbody tr th:only-of-type {\n",
              "        vertical-align: middle;\n",
              "    }\n",
              "\n",
              "    .dataframe tbody tr th {\n",
              "        vertical-align: top;\n",
              "    }\n",
              "\n",
              "    .dataframe thead th {\n",
              "        text-align: right;\n",
              "    }\n",
              "</style>\n",
              "<table border=\"1\" class=\"dataframe\">\n",
              "  <thead>\n",
              "    <tr style=\"text-align: right;\">\n",
              "      <th></th>\n",
              "      <th>movieId</th>\n",
              "      <th>title</th>\n",
              "      <th>genres</th>\n",
              "      <th>year</th>\n",
              "    </tr>\n",
              "  </thead>\n",
              "  <tbody>\n",
              "    <tr>\n",
              "      <th>0</th>\n",
              "      <td>1</td>\n",
              "      <td>Toy Story (1995)</td>\n",
              "      <td>Adventure|Animation|Children|Comedy|Fantasy</td>\n",
              "      <td>1995</td>\n",
              "    </tr>\n",
              "    <tr>\n",
              "      <th>1</th>\n",
              "      <td>2</td>\n",
              "      <td>Jumanji (1995)</td>\n",
              "      <td>Adventure|Children|Fantasy</td>\n",
              "      <td>1995</td>\n",
              "    </tr>\n",
              "    <tr>\n",
              "      <th>2</th>\n",
              "      <td>3</td>\n",
              "      <td>Grumpier Old Men (1995)</td>\n",
              "      <td>Comedy|Romance</td>\n",
              "      <td>1995</td>\n",
              "    </tr>\n",
              "    <tr>\n",
              "      <th>3</th>\n",
              "      <td>4</td>\n",
              "      <td>Waiting to Exhale (1995)</td>\n",
              "      <td>Comedy|Drama|Romance</td>\n",
              "      <td>1995</td>\n",
              "    </tr>\n",
              "    <tr>\n",
              "      <th>4</th>\n",
              "      <td>5</td>\n",
              "      <td>Father of the Bride Part II (1995)</td>\n",
              "      <td>Comedy</td>\n",
              "      <td>1995</td>\n",
              "    </tr>\n",
              "  </tbody>\n",
              "</table>\n",
              "</div>"
            ],
            "text/plain": [
              "   movieId                               title  \\\n",
              "0        1                    Toy Story (1995)   \n",
              "1        2                      Jumanji (1995)   \n",
              "2        3             Grumpier Old Men (1995)   \n",
              "3        4            Waiting to Exhale (1995)   \n",
              "4        5  Father of the Bride Part II (1995)   \n",
              "\n",
              "                                        genres  year  \n",
              "0  Adventure|Animation|Children|Comedy|Fantasy  1995  \n",
              "1                   Adventure|Children|Fantasy  1995  \n",
              "2                               Comedy|Romance  1995  \n",
              "3                         Comedy|Drama|Romance  1995  \n",
              "4                                       Comedy  1995  "
            ]
          },
          "execution_count": 8,
          "metadata": {},
          "output_type": "execute_result"
        }
      ],
      "source": [
        "movies_df.head()"
      ]
    },
    {
      "cell_type": "markdown",
      "id": "2e1e7e8b-2132-400a-bfcc-7127b0478ec6",
      "metadata": {
        "id": "2e1e7e8b-2132-400a-bfcc-7127b0478ec6"
      },
      "source": [
        "6. Удалим столбец genres"
      ]
    },
    {
      "cell_type": "code",
      "execution_count": null,
      "id": "77177202-29fe-4570-8f93-7a99b2fdf5a3",
      "metadata": {
        "id": "77177202-29fe-4570-8f93-7a99b2fdf5a3"
      },
      "outputs": [],
      "source": [
        "movies_df = movies_df.drop('genres', axis=1)"
      ]
    },
    {
      "cell_type": "code",
      "execution_count": null,
      "id": "a28c44e3-45a8-4ae4-9a5b-60945fb0d4ac",
      "metadata": {
        "id": "a28c44e3-45a8-4ae4-9a5b-60945fb0d4ac",
        "outputId": "c83ab212-587c-4623-aa23-8b92dc125d27"
      },
      "outputs": [
        {
          "data": {
            "text/html": [
              "<div>\n",
              "<style scoped>\n",
              "    .dataframe tbody tr th:only-of-type {\n",
              "        vertical-align: middle;\n",
              "    }\n",
              "\n",
              "    .dataframe tbody tr th {\n",
              "        vertical-align: top;\n",
              "    }\n",
              "\n",
              "    .dataframe thead th {\n",
              "        text-align: right;\n",
              "    }\n",
              "</style>\n",
              "<table border=\"1\" class=\"dataframe\">\n",
              "  <thead>\n",
              "    <tr style=\"text-align: right;\">\n",
              "      <th></th>\n",
              "      <th>movieId</th>\n",
              "      <th>title</th>\n",
              "      <th>year</th>\n",
              "    </tr>\n",
              "  </thead>\n",
              "  <tbody>\n",
              "    <tr>\n",
              "      <th>0</th>\n",
              "      <td>1</td>\n",
              "      <td>Toy Story (1995)</td>\n",
              "      <td>1995</td>\n",
              "    </tr>\n",
              "    <tr>\n",
              "      <th>1</th>\n",
              "      <td>2</td>\n",
              "      <td>Jumanji (1995)</td>\n",
              "      <td>1995</td>\n",
              "    </tr>\n",
              "    <tr>\n",
              "      <th>2</th>\n",
              "      <td>3</td>\n",
              "      <td>Grumpier Old Men (1995)</td>\n",
              "      <td>1995</td>\n",
              "    </tr>\n",
              "    <tr>\n",
              "      <th>3</th>\n",
              "      <td>4</td>\n",
              "      <td>Waiting to Exhale (1995)</td>\n",
              "      <td>1995</td>\n",
              "    </tr>\n",
              "    <tr>\n",
              "      <th>4</th>\n",
              "      <td>5</td>\n",
              "      <td>Father of the Bride Part II (1995)</td>\n",
              "      <td>1995</td>\n",
              "    </tr>\n",
              "  </tbody>\n",
              "</table>\n",
              "</div>"
            ],
            "text/plain": [
              "   movieId                               title  year\n",
              "0        1                    Toy Story (1995)  1995\n",
              "1        2                      Jumanji (1995)  1995\n",
              "2        3             Grumpier Old Men (1995)  1995\n",
              "3        4            Waiting to Exhale (1995)  1995\n",
              "4        5  Father of the Bride Part II (1995)  1995"
            ]
          },
          "execution_count": 11,
          "metadata": {},
          "output_type": "execute_result"
        }
      ],
      "source": [
        "movies_df.head()"
      ]
    },
    {
      "cell_type": "markdown",
      "id": "36d517f3-51ee-48ea-afb2-c413d07b4c31",
      "metadata": {
        "id": "36d517f3-51ee-48ea-afb2-c413d07b4c31"
      },
      "source": [
        "8. Отобразим таблицу рейтингов"
      ]
    },
    {
      "cell_type": "code",
      "execution_count": null,
      "id": "6edbf744-23c2-40c2-a62a-72398fad6944",
      "metadata": {
        "id": "6edbf744-23c2-40c2-a62a-72398fad6944",
        "outputId": "62f8cb0b-2eda-4a46-c220-3cef71bb1cb4"
      },
      "outputs": [
        {
          "data": {
            "text/html": [
              "<div>\n",
              "<style scoped>\n",
              "    .dataframe tbody tr th:only-of-type {\n",
              "        vertical-align: middle;\n",
              "    }\n",
              "\n",
              "    .dataframe tbody tr th {\n",
              "        vertical-align: top;\n",
              "    }\n",
              "\n",
              "    .dataframe thead th {\n",
              "        text-align: right;\n",
              "    }\n",
              "</style>\n",
              "<table border=\"1\" class=\"dataframe\">\n",
              "  <thead>\n",
              "    <tr style=\"text-align: right;\">\n",
              "      <th></th>\n",
              "      <th>userId</th>\n",
              "      <th>movieId</th>\n",
              "      <th>rating</th>\n",
              "      <th>timestamp</th>\n",
              "    </tr>\n",
              "  </thead>\n",
              "  <tbody>\n",
              "    <tr>\n",
              "      <th>0</th>\n",
              "      <td>1</td>\n",
              "      <td>169</td>\n",
              "      <td>2.5</td>\n",
              "      <td>1204927694</td>\n",
              "    </tr>\n",
              "    <tr>\n",
              "      <th>1</th>\n",
              "      <td>1</td>\n",
              "      <td>2471</td>\n",
              "      <td>3.0</td>\n",
              "      <td>1204927438</td>\n",
              "    </tr>\n",
              "    <tr>\n",
              "      <th>2</th>\n",
              "      <td>1</td>\n",
              "      <td>48516</td>\n",
              "      <td>5.0</td>\n",
              "      <td>1204927435</td>\n",
              "    </tr>\n",
              "    <tr>\n",
              "      <th>3</th>\n",
              "      <td>2</td>\n",
              "      <td>2571</td>\n",
              "      <td>3.5</td>\n",
              "      <td>1436165433</td>\n",
              "    </tr>\n",
              "    <tr>\n",
              "      <th>4</th>\n",
              "      <td>2</td>\n",
              "      <td>109487</td>\n",
              "      <td>4.0</td>\n",
              "      <td>1436165496</td>\n",
              "    </tr>\n",
              "  </tbody>\n",
              "</table>\n",
              "</div>"
            ],
            "text/plain": [
              "   userId  movieId  rating   timestamp\n",
              "0       1      169     2.5  1204927694\n",
              "1       1     2471     3.0  1204927438\n",
              "2       1    48516     5.0  1204927435\n",
              "3       2     2571     3.5  1436165433\n",
              "4       2   109487     4.0  1436165496"
            ]
          },
          "execution_count": 12,
          "metadata": {},
          "output_type": "execute_result"
        }
      ],
      "source": [
        "ratings_df.head()"
      ]
    },
    {
      "cell_type": "markdown",
      "id": "e3fadf02-828e-4a10-9407-0af1679d61e3",
      "metadata": {
        "id": "e3fadf02-828e-4a10-9407-0af1679d61e3"
      },
      "source": [
        "9. Удалим столбец timestam"
      ]
    },
    {
      "cell_type": "code",
      "execution_count": null,
      "id": "6d146bb4-d04c-40f8-95ab-25a5b701365c",
      "metadata": {
        "id": "6d146bb4-d04c-40f8-95ab-25a5b701365c"
      },
      "outputs": [],
      "source": [
        "ratings_df = ratings_df.drop('timestamp', axis=1)"
      ]
    },
    {
      "cell_type": "code",
      "execution_count": null,
      "id": "9abd2a6e-2f8a-45fa-a98d-e6233876e3ea",
      "metadata": {
        "id": "9abd2a6e-2f8a-45fa-a98d-e6233876e3ea",
        "outputId": "38bd69ea-f4a8-4c51-8ebd-98e6b903c4d7"
      },
      "outputs": [
        {
          "data": {
            "text/html": [
              "<div>\n",
              "<style scoped>\n",
              "    .dataframe tbody tr th:only-of-type {\n",
              "        vertical-align: middle;\n",
              "    }\n",
              "\n",
              "    .dataframe tbody tr th {\n",
              "        vertical-align: top;\n",
              "    }\n",
              "\n",
              "    .dataframe thead th {\n",
              "        text-align: right;\n",
              "    }\n",
              "</style>\n",
              "<table border=\"1\" class=\"dataframe\">\n",
              "  <thead>\n",
              "    <tr style=\"text-align: right;\">\n",
              "      <th></th>\n",
              "      <th>userId</th>\n",
              "      <th>movieId</th>\n",
              "      <th>rating</th>\n",
              "    </tr>\n",
              "  </thead>\n",
              "  <tbody>\n",
              "    <tr>\n",
              "      <th>0</th>\n",
              "      <td>1</td>\n",
              "      <td>169</td>\n",
              "      <td>2.5</td>\n",
              "    </tr>\n",
              "    <tr>\n",
              "      <th>1</th>\n",
              "      <td>1</td>\n",
              "      <td>2471</td>\n",
              "      <td>3.0</td>\n",
              "    </tr>\n",
              "    <tr>\n",
              "      <th>2</th>\n",
              "      <td>1</td>\n",
              "      <td>48516</td>\n",
              "      <td>5.0</td>\n",
              "    </tr>\n",
              "    <tr>\n",
              "      <th>3</th>\n",
              "      <td>2</td>\n",
              "      <td>2571</td>\n",
              "      <td>3.5</td>\n",
              "    </tr>\n",
              "    <tr>\n",
              "      <th>4</th>\n",
              "      <td>2</td>\n",
              "      <td>109487</td>\n",
              "      <td>4.0</td>\n",
              "    </tr>\n",
              "  </tbody>\n",
              "</table>\n",
              "</div>"
            ],
            "text/plain": [
              "   userId  movieId  rating\n",
              "0       1      169     2.5\n",
              "1       1     2471     3.0\n",
              "2       1    48516     5.0\n",
              "3       2     2571     3.5\n",
              "4       2   109487     4.0"
            ]
          },
          "execution_count": 14,
          "metadata": {},
          "output_type": "execute_result"
        }
      ],
      "source": [
        "ratings_df.head()"
      ]
    },
    {
      "cell_type": "markdown",
      "id": "e12260c3-768e-493f-aff8-c9eb73d185ac",
      "metadata": {
        "id": "e12260c3-768e-493f-aff8-c9eb73d185ac"
      },
      "source": [
        "10. Создадим таблицу и заполним ее фильмами и и рейтингами"
      ]
    },
    {
      "cell_type": "code",
      "execution_count": null,
      "id": "554f6971-1b24-4d3c-8052-5f110e0098e0",
      "metadata": {
        "id": "554f6971-1b24-4d3c-8052-5f110e0098e0",
        "outputId": "c8d168ca-c07d-4a2f-eafb-0e8e629cd305"
      },
      "outputs": [
        {
          "data": {
            "text/html": [
              "<div>\n",
              "<style scoped>\n",
              "    .dataframe tbody tr th:only-of-type {\n",
              "        vertical-align: middle;\n",
              "    }\n",
              "\n",
              "    .dataframe tbody tr th {\n",
              "        vertical-align: top;\n",
              "    }\n",
              "\n",
              "    .dataframe thead th {\n",
              "        text-align: right;\n",
              "    }\n",
              "</style>\n",
              "<table border=\"1\" class=\"dataframe\">\n",
              "  <thead>\n",
              "    <tr style=\"text-align: right;\">\n",
              "      <th></th>\n",
              "      <th>title</th>\n",
              "      <th>rating</th>\n",
              "    </tr>\n",
              "  </thead>\n",
              "  <tbody>\n",
              "    <tr>\n",
              "      <th>0</th>\n",
              "      <td>Breakfast Club, The</td>\n",
              "      <td>5.0</td>\n",
              "    </tr>\n",
              "    <tr>\n",
              "      <th>1</th>\n",
              "      <td>Toy Story</td>\n",
              "      <td>3.5</td>\n",
              "    </tr>\n",
              "    <tr>\n",
              "      <th>2</th>\n",
              "      <td>Jumanji</td>\n",
              "      <td>2.0</td>\n",
              "    </tr>\n",
              "    <tr>\n",
              "      <th>3</th>\n",
              "      <td>Pulp Fiction</td>\n",
              "      <td>5.0</td>\n",
              "    </tr>\n",
              "    <tr>\n",
              "      <th>4</th>\n",
              "      <td>Akira</td>\n",
              "      <td>4.5</td>\n",
              "    </tr>\n",
              "  </tbody>\n",
              "</table>\n",
              "</div>"
            ],
            "text/plain": [
              "                 title  rating\n",
              "0  Breakfast Club, The     5.0\n",
              "1            Toy Story     3.5\n",
              "2              Jumanji     2.0\n",
              "3         Pulp Fiction     5.0\n",
              "4                Akira     4.5"
            ]
          },
          "execution_count": 15,
          "metadata": {},
          "output_type": "execute_result"
        }
      ],
      "source": [
        "userInput = [\n",
        " {'title':'Breakfast Club, The', 'rating':5},\n",
        " {'title':'Toy Story', 'rating':3.5},\n",
        " {'title':'Jumanji', 'rating':2},\n",
        " {'title':\"Pulp Fiction\", 'rating':5},\n",
        " {'title':'Akira', 'rating':4.5}\n",
        " ]\n",
        "inputMovies = pd.DataFrame(userInput)\n",
        "inputMovies"
      ]
    },
    {
      "cell_type": "markdown",
      "id": "bef5dbf5-4c0d-4e5f-acbd-07988a13d2ef",
      "metadata": {
        "id": "bef5dbf5-4c0d-4e5f-acbd-07988a13d2ef"
      },
      "source": [
        "11. **НА ДАННОМ ПУНКТЕ МЫ ДОЛЖНЫ** отфильтровать фильмф из movies_df по названию фильмов, которые содержатся в inputMovies и удалить столбец year. Но проблема в том, что таблица не заполняется. Была проведена проверка источника данных, условия и рез-ат фильтрации, но решить проблему не удалось"
      ]
    },
    {
      "cell_type": "code",
      "execution_count": null,
      "id": "8a7cd452-8638-4c27-b639-e8c7edbfe15b",
      "metadata": {
        "id": "8a7cd452-8638-4c27-b639-e8c7edbfe15b",
        "outputId": "2bcc7b2f-8ee7-4828-97be-7c116f72e019"
      },
      "outputs": [
        {
          "data": {
            "text/html": [
              "<div>\n",
              "<style scoped>\n",
              "    .dataframe tbody tr th:only-of-type {\n",
              "        vertical-align: middle;\n",
              "    }\n",
              "\n",
              "    .dataframe tbody tr th {\n",
              "        vertical-align: top;\n",
              "    }\n",
              "\n",
              "    .dataframe thead th {\n",
              "        text-align: right;\n",
              "    }\n",
              "</style>\n",
              "<table border=\"1\" class=\"dataframe\">\n",
              "  <thead>\n",
              "    <tr style=\"text-align: right;\">\n",
              "      <th></th>\n",
              "      <th>movieId</th>\n",
              "      <th>title</th>\n",
              "      <th>rating</th>\n",
              "    </tr>\n",
              "  </thead>\n",
              "  <tbody>\n",
              "  </tbody>\n",
              "</table>\n",
              "</div>"
            ],
            "text/plain": [
              "Empty DataFrame\n",
              "Columns: [movieId, title, rating]\n",
              "Index: []"
            ]
          },
          "execution_count": 60,
          "metadata": {},
          "output_type": "execute_result"
        }
      ],
      "source": [
        "inputId = movies_df[movies_df['title'].isin(inputMovies['title'].tolist())]\n",
        "inputMovies = pd.merge(inputId, inputMovies)\n",
        "inputMovies = inputMovies.drop('year', axis=1)\n",
        "inputMovies"
      ]
    },
    {
      "cell_type": "code",
      "execution_count": null,
      "id": "806b9800-c37e-4a42-bdee-fc098736cb33",
      "metadata": {
        "id": "806b9800-c37e-4a42-bdee-fc098736cb33",
        "outputId": "2fa92c25-ac93-48ba-c3fa-3121c7f47da6"
      },
      "outputs": [
        {
          "data": {
            "text/html": [
              "<div>\n",
              "<style scoped>\n",
              "    .dataframe tbody tr th:only-of-type {\n",
              "        vertical-align: middle;\n",
              "    }\n",
              "\n",
              "    .dataframe tbody tr th {\n",
              "        vertical-align: top;\n",
              "    }\n",
              "\n",
              "    .dataframe thead th {\n",
              "        text-align: right;\n",
              "    }\n",
              "</style>\n",
              "<table border=\"1\" class=\"dataframe\">\n",
              "  <thead>\n",
              "    <tr style=\"text-align: right;\">\n",
              "      <th></th>\n",
              "      <th>userId</th>\n",
              "      <th>movieId</th>\n",
              "      <th>rating</th>\n",
              "    </tr>\n",
              "  </thead>\n",
              "  <tbody>\n",
              "  </tbody>\n",
              "</table>\n",
              "</div>"
            ],
            "text/plain": [
              "Empty DataFrame\n",
              "Columns: [userId, movieId, rating]\n",
              "Index: []"
            ]
          },
          "execution_count": 17,
          "metadata": {},
          "output_type": "execute_result"
        }
      ],
      "source": [
        "userSubset = ratings_df[ratings_df['movieId'].isin(inputMovies['movieId'].tolist())]\n",
        "userSubset.head()"
      ]
    }
  ],
  "metadata": {
    "kernelspec": {
      "display_name": "Python 3 (ipykernel)",
      "language": "python",
      "name": "python3"
    },
    "language_info": {
      "codemirror_mode": {
        "name": "ipython",
        "version": 3
      },
      "file_extension": ".py",
      "mimetype": "text/x-python",
      "name": "python",
      "nbconvert_exporter": "python",
      "pygments_lexer": "ipython3",
      "version": "3.11.7"
    },
    "colab": {
      "provenance": [],
      "include_colab_link": true
    }
  },
  "nbformat": 4,
  "nbformat_minor": 5
}