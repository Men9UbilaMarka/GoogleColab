{
 "cells": [
  {
   "cell_type": "markdown",
   "id": "c8bb3c70-d509-4bb6-8482-241142398dfb",
   "metadata": {},
   "source": [
    "# Практическая работа №19"
   ]
  },
  {
   "cell_type": "markdown",
   "id": "9abee0b4-fd99-49e8-90f2-98ecf0ca06ff",
   "metadata": {},
   "source": [
    "**Передача данных с использованием протокола Ethernet**"
   ]
  },
  {
   "cell_type": "code",
   "execution_count": null,
   "id": "89395d85-328b-44a9-8f61-80bca90c2b76",
   "metadata": {},
   "outputs": [],
   "source": [
    "1. Создаем программу сервера и запускаем ее"
   ]
  },
  {
   "cell_type": "code",
   "execution_count": null,
   "id": "486f380c-335d-40ac-809c-67ba7889fa45",
   "metadata": {},
   "outputs": [
    {
     "name": "stdout",
     "output_type": "stream",
     "text": [
      "Слушаю порт 33333\n",
      "Получено от 127.0.0.1:64534: Привет\n",
      "Отправлено 127.0.0.1:64534: тевирП\n",
      "Слушаю порт 33333\n"
     ]
    }
   ],
   "source": [
    "import socket, string\n",
    "def do_something(x):\n",
    " lst = x[::-1]\n",
    " return lst\n",
    "HOST = \"localhost\" # localhost\n",
    "PORT = 33333\n",
    "srv = socket.socket(socket.AF_INET, socket.SOCK_STREAM)\n",
    "srv.bind((HOST, PORT))\n",
    "idx = 0\n",
    "while idx<5:\n",
    " print ('Слушаю порт 33333')\n",
    " srv.listen(1)\n",
    " sock, addr = srv.accept()\n",
    " while 1:\n",
    "     pal = sock.recv(1024)\n",
    "     if not pal:\n",
    "         break\n",
    "     else:\n",
    "         idx+=1\n",
    "     print ('Получено от %s:%s:' % addr, pal.decode('utf-8'))\n",
    "     lap = do_something(pal.decode('utf-8'))\n",
    "     print ('Отправлено %s:%s:' % addr, lap)\n",
    "     sock.send(lap.encode('utf-8'))\n",
    " sock.close()\n",
    "print('Получено 5 сообщений')"
   ]
  }
 ],
 "metadata": {
  "kernelspec": {
   "display_name": "Python 3 (ipykernel)",
   "language": "python",
   "name": "python3"
  },
  "language_info": {
   "codemirror_mode": {
    "name": "ipython",
    "version": 3
   },
   "file_extension": ".py",
   "mimetype": "text/x-python",
   "name": "python",
   "nbconvert_exporter": "python",
   "pygments_lexer": "ipython3",
   "version": "3.11.7"
  }
 },
 "nbformat": 4,
 "nbformat_minor": 5
}
