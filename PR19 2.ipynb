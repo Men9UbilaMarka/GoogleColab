{
 "cells": [
  {
   "cell_type": "markdown",
   "id": "d1ce5748-d7d2-44c0-94cd-276e374ad209",
   "metadata": {},
   "source": [
    "2. Создаем программу клиента и запускаем ее"
   ]
  },
  {
   "cell_type": "code",
   "execution_count": 5,
   "id": "796c5b69-003d-4ae0-ba46-3839d4bd85d0",
   "metadata": {},
   "outputs": [
    {
     "name": "stdout",
     "output_type": "stream",
     "text": [
      "Получено: тевирП\n"
     ]
    }
   ],
   "source": [
    "import socket\n",
    "HOST = \"localhost\" # удаленный компьютер (localhost)\n",
    "PORT = 33333 # порт на удаленном компьютере\n",
    "sock = socket.socket(socket.AF_INET, socket.SOCK_STREAM)\n",
    "sock.connect((HOST, PORT))\n",
    "sock.send('Привет'.encode('utf-8'))\n",
    "result = sock.recv(1024)\n",
    "sock.close()\n",
    "print ('Получено:', result.decode('utf-8'))"
   ]
  },
  {
   "cell_type": "markdown",
   "id": "e25fcdda-f7dc-4065-96db-a3daa4763692",
   "metadata": {},
   "source": [
    "**Вывод :** в данной практической работе была реализованна передача данных с использованием протокола Ethernet с через среду Jupiter Notebook."
   ]
  }
 ],
 "metadata": {
  "kernelspec": {
   "display_name": "Python 3 (ipykernel)",
   "language": "python",
   "name": "python3"
  },
  "language_info": {
   "codemirror_mode": {
    "name": "ipython",
    "version": 3
   },
   "file_extension": ".py",
   "mimetype": "text/x-python",
   "name": "python",
   "nbconvert_exporter": "python",
   "pygments_lexer": "ipython3",
   "version": "3.11.7"
  }
 },
 "nbformat": 4,
 "nbformat_minor": 5
}
